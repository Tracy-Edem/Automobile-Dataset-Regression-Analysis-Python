{
  "nbformat": 4,
  "nbformat_minor": 0,
  "metadata": {
    "colab": {
      "provenance": []
    },
    "kernelspec": {
      "name": "python3",
      "display_name": "Python 3"
    },
    "language_info": {
      "name": "python"
    }
  },
  "cells": [
    {
      "cell_type": "markdown",
      "source": [
        "# Import dataset"
      ],
      "metadata": {
        "id": "c-UjtNL68e-K"
      }
    },
    {
      "cell_type": "code",
      "source": [
        "import pandas as pd"
      ],
      "metadata": {
        "id": "RJFIYBM_9XK2"
      },
      "execution_count": 92,
      "outputs": []
    },
    {
      "cell_type": "code",
      "source": [
        "# Read data from url\n",
        "automobile_data = pd.read_csv(\"https://archive.ics.uci.edu/static/public/10/data.csv\")\n",
        "automobile_data.head()"
      ],
      "metadata": {
        "colab": {
          "base_uri": "https://localhost:8080/",
          "height": 0
        },
        "id": "B4j6rSPR9aJc",
        "outputId": "6d6a8d7d-bd56-4e49-bfeb-4cde59f36100"
      },
      "execution_count": 93,
      "outputs": [
        {
          "output_type": "execute_result",
          "data": {
            "text/plain": [
              "   normalized-losses         make fuel-type aspiration  num-of-doors  \\\n",
              "0                NaN  alfa-romero       gas        std           2.0   \n",
              "1                NaN  alfa-romero       gas        std           2.0   \n",
              "2                NaN  alfa-romero       gas        std           2.0   \n",
              "3              164.0         audi       gas        std           4.0   \n",
              "4              164.0         audi       gas        std           4.0   \n",
              "\n",
              "    body-style drive-wheels engine-location  wheel-base  length  ...  \\\n",
              "0  convertible          rwd           front        88.6   168.8  ...   \n",
              "1  convertible          rwd           front        88.6   168.8  ...   \n",
              "2    hatchback          rwd           front        94.5   171.2  ...   \n",
              "3        sedan          fwd           front        99.8   176.6  ...   \n",
              "4        sedan          4wd           front        99.4   176.6  ...   \n",
              "\n",
              "   fuel-system  bore  stroke compression-ratio  horsepower  peak-rpm city-mpg  \\\n",
              "0         mpfi  3.47    2.68               9.0       111.0    5000.0       21   \n",
              "1         mpfi  3.47    2.68               9.0       111.0    5000.0       21   \n",
              "2         mpfi  2.68    3.47               9.0       154.0    5000.0       19   \n",
              "3         mpfi  3.19    3.40              10.0       102.0    5500.0       24   \n",
              "4         mpfi  3.19    3.40               8.0       115.0    5500.0       18   \n",
              "\n",
              "   highway-mpg    price  symboling  \n",
              "0           27  13495.0          3  \n",
              "1           27  16500.0          3  \n",
              "2           26  16500.0          1  \n",
              "3           30  13950.0          2  \n",
              "4           22  17450.0          2  \n",
              "\n",
              "[5 rows x 26 columns]"
            ],
            "text/html": [
              "\n",
              "  <div id=\"df-d6bcaea2-35be-49c6-9480-9a8b4fb76e73\" class=\"colab-df-container\">\n",
              "    <div>\n",
              "<style scoped>\n",
              "    .dataframe tbody tr th:only-of-type {\n",
              "        vertical-align: middle;\n",
              "    }\n",
              "\n",
              "    .dataframe tbody tr th {\n",
              "        vertical-align: top;\n",
              "    }\n",
              "\n",
              "    .dataframe thead th {\n",
              "        text-align: right;\n",
              "    }\n",
              "</style>\n",
              "<table border=\"1\" class=\"dataframe\">\n",
              "  <thead>\n",
              "    <tr style=\"text-align: right;\">\n",
              "      <th></th>\n",
              "      <th>normalized-losses</th>\n",
              "      <th>make</th>\n",
              "      <th>fuel-type</th>\n",
              "      <th>aspiration</th>\n",
              "      <th>num-of-doors</th>\n",
              "      <th>body-style</th>\n",
              "      <th>drive-wheels</th>\n",
              "      <th>engine-location</th>\n",
              "      <th>wheel-base</th>\n",
              "      <th>length</th>\n",
              "      <th>...</th>\n",
              "      <th>fuel-system</th>\n",
              "      <th>bore</th>\n",
              "      <th>stroke</th>\n",
              "      <th>compression-ratio</th>\n",
              "      <th>horsepower</th>\n",
              "      <th>peak-rpm</th>\n",
              "      <th>city-mpg</th>\n",
              "      <th>highway-mpg</th>\n",
              "      <th>price</th>\n",
              "      <th>symboling</th>\n",
              "    </tr>\n",
              "  </thead>\n",
              "  <tbody>\n",
              "    <tr>\n",
              "      <th>0</th>\n",
              "      <td>NaN</td>\n",
              "      <td>alfa-romero</td>\n",
              "      <td>gas</td>\n",
              "      <td>std</td>\n",
              "      <td>2.0</td>\n",
              "      <td>convertible</td>\n",
              "      <td>rwd</td>\n",
              "      <td>front</td>\n",
              "      <td>88.6</td>\n",
              "      <td>168.8</td>\n",
              "      <td>...</td>\n",
              "      <td>mpfi</td>\n",
              "      <td>3.47</td>\n",
              "      <td>2.68</td>\n",
              "      <td>9.0</td>\n",
              "      <td>111.0</td>\n",
              "      <td>5000.0</td>\n",
              "      <td>21</td>\n",
              "      <td>27</td>\n",
              "      <td>13495.0</td>\n",
              "      <td>3</td>\n",
              "    </tr>\n",
              "    <tr>\n",
              "      <th>1</th>\n",
              "      <td>NaN</td>\n",
              "      <td>alfa-romero</td>\n",
              "      <td>gas</td>\n",
              "      <td>std</td>\n",
              "      <td>2.0</td>\n",
              "      <td>convertible</td>\n",
              "      <td>rwd</td>\n",
              "      <td>front</td>\n",
              "      <td>88.6</td>\n",
              "      <td>168.8</td>\n",
              "      <td>...</td>\n",
              "      <td>mpfi</td>\n",
              "      <td>3.47</td>\n",
              "      <td>2.68</td>\n",
              "      <td>9.0</td>\n",
              "      <td>111.0</td>\n",
              "      <td>5000.0</td>\n",
              "      <td>21</td>\n",
              "      <td>27</td>\n",
              "      <td>16500.0</td>\n",
              "      <td>3</td>\n",
              "    </tr>\n",
              "    <tr>\n",
              "      <th>2</th>\n",
              "      <td>NaN</td>\n",
              "      <td>alfa-romero</td>\n",
              "      <td>gas</td>\n",
              "      <td>std</td>\n",
              "      <td>2.0</td>\n",
              "      <td>hatchback</td>\n",
              "      <td>rwd</td>\n",
              "      <td>front</td>\n",
              "      <td>94.5</td>\n",
              "      <td>171.2</td>\n",
              "      <td>...</td>\n",
              "      <td>mpfi</td>\n",
              "      <td>2.68</td>\n",
              "      <td>3.47</td>\n",
              "      <td>9.0</td>\n",
              "      <td>154.0</td>\n",
              "      <td>5000.0</td>\n",
              "      <td>19</td>\n",
              "      <td>26</td>\n",
              "      <td>16500.0</td>\n",
              "      <td>1</td>\n",
              "    </tr>\n",
              "    <tr>\n",
              "      <th>3</th>\n",
              "      <td>164.0</td>\n",
              "      <td>audi</td>\n",
              "      <td>gas</td>\n",
              "      <td>std</td>\n",
              "      <td>4.0</td>\n",
              "      <td>sedan</td>\n",
              "      <td>fwd</td>\n",
              "      <td>front</td>\n",
              "      <td>99.8</td>\n",
              "      <td>176.6</td>\n",
              "      <td>...</td>\n",
              "      <td>mpfi</td>\n",
              "      <td>3.19</td>\n",
              "      <td>3.40</td>\n",
              "      <td>10.0</td>\n",
              "      <td>102.0</td>\n",
              "      <td>5500.0</td>\n",
              "      <td>24</td>\n",
              "      <td>30</td>\n",
              "      <td>13950.0</td>\n",
              "      <td>2</td>\n",
              "    </tr>\n",
              "    <tr>\n",
              "      <th>4</th>\n",
              "      <td>164.0</td>\n",
              "      <td>audi</td>\n",
              "      <td>gas</td>\n",
              "      <td>std</td>\n",
              "      <td>4.0</td>\n",
              "      <td>sedan</td>\n",
              "      <td>4wd</td>\n",
              "      <td>front</td>\n",
              "      <td>99.4</td>\n",
              "      <td>176.6</td>\n",
              "      <td>...</td>\n",
              "      <td>mpfi</td>\n",
              "      <td>3.19</td>\n",
              "      <td>3.40</td>\n",
              "      <td>8.0</td>\n",
              "      <td>115.0</td>\n",
              "      <td>5500.0</td>\n",
              "      <td>18</td>\n",
              "      <td>22</td>\n",
              "      <td>17450.0</td>\n",
              "      <td>2</td>\n",
              "    </tr>\n",
              "  </tbody>\n",
              "</table>\n",
              "<p>5 rows × 26 columns</p>\n",
              "</div>\n",
              "    <div class=\"colab-df-buttons\">\n",
              "\n",
              "  <div class=\"colab-df-container\">\n",
              "    <button class=\"colab-df-convert\" onclick=\"convertToInteractive('df-d6bcaea2-35be-49c6-9480-9a8b4fb76e73')\"\n",
              "            title=\"Convert this dataframe to an interactive table.\"\n",
              "            style=\"display:none;\">\n",
              "\n",
              "  <svg xmlns=\"http://www.w3.org/2000/svg\" height=\"24px\" viewBox=\"0 -960 960 960\">\n",
              "    <path d=\"M120-120v-720h720v720H120Zm60-500h600v-160H180v160Zm220 220h160v-160H400v160Zm0 220h160v-160H400v160ZM180-400h160v-160H180v160Zm440 0h160v-160H620v160ZM180-180h160v-160H180v160Zm440 0h160v-160H620v160Z\"/>\n",
              "  </svg>\n",
              "    </button>\n",
              "\n",
              "  <style>\n",
              "    .colab-df-container {\n",
              "      display:flex;\n",
              "      gap: 12px;\n",
              "    }\n",
              "\n",
              "    .colab-df-convert {\n",
              "      background-color: #E8F0FE;\n",
              "      border: none;\n",
              "      border-radius: 50%;\n",
              "      cursor: pointer;\n",
              "      display: none;\n",
              "      fill: #1967D2;\n",
              "      height: 32px;\n",
              "      padding: 0 0 0 0;\n",
              "      width: 32px;\n",
              "    }\n",
              "\n",
              "    .colab-df-convert:hover {\n",
              "      background-color: #E2EBFA;\n",
              "      box-shadow: 0px 1px 2px rgba(60, 64, 67, 0.3), 0px 1px 3px 1px rgba(60, 64, 67, 0.15);\n",
              "      fill: #174EA6;\n",
              "    }\n",
              "\n",
              "    .colab-df-buttons div {\n",
              "      margin-bottom: 4px;\n",
              "    }\n",
              "\n",
              "    [theme=dark] .colab-df-convert {\n",
              "      background-color: #3B4455;\n",
              "      fill: #D2E3FC;\n",
              "    }\n",
              "\n",
              "    [theme=dark] .colab-df-convert:hover {\n",
              "      background-color: #434B5C;\n",
              "      box-shadow: 0px 1px 3px 1px rgba(0, 0, 0, 0.15);\n",
              "      filter: drop-shadow(0px 1px 2px rgba(0, 0, 0, 0.3));\n",
              "      fill: #FFFFFF;\n",
              "    }\n",
              "  </style>\n",
              "\n",
              "    <script>\n",
              "      const buttonEl =\n",
              "        document.querySelector('#df-d6bcaea2-35be-49c6-9480-9a8b4fb76e73 button.colab-df-convert');\n",
              "      buttonEl.style.display =\n",
              "        google.colab.kernel.accessAllowed ? 'block' : 'none';\n",
              "\n",
              "      async function convertToInteractive(key) {\n",
              "        const element = document.querySelector('#df-d6bcaea2-35be-49c6-9480-9a8b4fb76e73');\n",
              "        const dataTable =\n",
              "          await google.colab.kernel.invokeFunction('convertToInteractive',\n",
              "                                                    [key], {});\n",
              "        if (!dataTable) return;\n",
              "\n",
              "        const docLinkHtml = 'Like what you see? Visit the ' +\n",
              "          '<a target=\"_blank\" href=https://colab.research.google.com/notebooks/data_table.ipynb>data table notebook</a>'\n",
              "          + ' to learn more about interactive tables.';\n",
              "        element.innerHTML = '';\n",
              "        dataTable['output_type'] = 'display_data';\n",
              "        await google.colab.output.renderOutput(dataTable, element);\n",
              "        const docLink = document.createElement('div');\n",
              "        docLink.innerHTML = docLinkHtml;\n",
              "        element.appendChild(docLink);\n",
              "      }\n",
              "    </script>\n",
              "  </div>\n",
              "\n",
              "\n",
              "<div id=\"df-9871db8f-3070-4c8d-bbbc-dfe981cc0d10\">\n",
              "  <button class=\"colab-df-quickchart\" onclick=\"quickchart('df-9871db8f-3070-4c8d-bbbc-dfe981cc0d10')\"\n",
              "            title=\"Suggest charts\"\n",
              "            style=\"display:none;\">\n",
              "\n",
              "<svg xmlns=\"http://www.w3.org/2000/svg\" height=\"24px\"viewBox=\"0 0 24 24\"\n",
              "     width=\"24px\">\n",
              "    <g>\n",
              "        <path d=\"M19 3H5c-1.1 0-2 .9-2 2v14c0 1.1.9 2 2 2h14c1.1 0 2-.9 2-2V5c0-1.1-.9-2-2-2zM9 17H7v-7h2v7zm4 0h-2V7h2v10zm4 0h-2v-4h2v4z\"/>\n",
              "    </g>\n",
              "</svg>\n",
              "  </button>\n",
              "\n",
              "<style>\n",
              "  .colab-df-quickchart {\n",
              "      --bg-color: #E8F0FE;\n",
              "      --fill-color: #1967D2;\n",
              "      --hover-bg-color: #E2EBFA;\n",
              "      --hover-fill-color: #174EA6;\n",
              "      --disabled-fill-color: #AAA;\n",
              "      --disabled-bg-color: #DDD;\n",
              "  }\n",
              "\n",
              "  [theme=dark] .colab-df-quickchart {\n",
              "      --bg-color: #3B4455;\n",
              "      --fill-color: #D2E3FC;\n",
              "      --hover-bg-color: #434B5C;\n",
              "      --hover-fill-color: #FFFFFF;\n",
              "      --disabled-bg-color: #3B4455;\n",
              "      --disabled-fill-color: #666;\n",
              "  }\n",
              "\n",
              "  .colab-df-quickchart {\n",
              "    background-color: var(--bg-color);\n",
              "    border: none;\n",
              "    border-radius: 50%;\n",
              "    cursor: pointer;\n",
              "    display: none;\n",
              "    fill: var(--fill-color);\n",
              "    height: 32px;\n",
              "    padding: 0;\n",
              "    width: 32px;\n",
              "  }\n",
              "\n",
              "  .colab-df-quickchart:hover {\n",
              "    background-color: var(--hover-bg-color);\n",
              "    box-shadow: 0 1px 2px rgba(60, 64, 67, 0.3), 0 1px 3px 1px rgba(60, 64, 67, 0.15);\n",
              "    fill: var(--button-hover-fill-color);\n",
              "  }\n",
              "\n",
              "  .colab-df-quickchart-complete:disabled,\n",
              "  .colab-df-quickchart-complete:disabled:hover {\n",
              "    background-color: var(--disabled-bg-color);\n",
              "    fill: var(--disabled-fill-color);\n",
              "    box-shadow: none;\n",
              "  }\n",
              "\n",
              "  .colab-df-spinner {\n",
              "    border: 2px solid var(--fill-color);\n",
              "    border-color: transparent;\n",
              "    border-bottom-color: var(--fill-color);\n",
              "    animation:\n",
              "      spin 1s steps(1) infinite;\n",
              "  }\n",
              "\n",
              "  @keyframes spin {\n",
              "    0% {\n",
              "      border-color: transparent;\n",
              "      border-bottom-color: var(--fill-color);\n",
              "      border-left-color: var(--fill-color);\n",
              "    }\n",
              "    20% {\n",
              "      border-color: transparent;\n",
              "      border-left-color: var(--fill-color);\n",
              "      border-top-color: var(--fill-color);\n",
              "    }\n",
              "    30% {\n",
              "      border-color: transparent;\n",
              "      border-left-color: var(--fill-color);\n",
              "      border-top-color: var(--fill-color);\n",
              "      border-right-color: var(--fill-color);\n",
              "    }\n",
              "    40% {\n",
              "      border-color: transparent;\n",
              "      border-right-color: var(--fill-color);\n",
              "      border-top-color: var(--fill-color);\n",
              "    }\n",
              "    60% {\n",
              "      border-color: transparent;\n",
              "      border-right-color: var(--fill-color);\n",
              "    }\n",
              "    80% {\n",
              "      border-color: transparent;\n",
              "      border-right-color: var(--fill-color);\n",
              "      border-bottom-color: var(--fill-color);\n",
              "    }\n",
              "    90% {\n",
              "      border-color: transparent;\n",
              "      border-bottom-color: var(--fill-color);\n",
              "    }\n",
              "  }\n",
              "</style>\n",
              "\n",
              "  <script>\n",
              "    async function quickchart(key) {\n",
              "      const quickchartButtonEl =\n",
              "        document.querySelector('#' + key + ' button');\n",
              "      quickchartButtonEl.disabled = true;  // To prevent multiple clicks.\n",
              "      quickchartButtonEl.classList.add('colab-df-spinner');\n",
              "      try {\n",
              "        const charts = await google.colab.kernel.invokeFunction(\n",
              "            'suggestCharts', [key], {});\n",
              "      } catch (error) {\n",
              "        console.error('Error during call to suggestCharts:', error);\n",
              "      }\n",
              "      quickchartButtonEl.classList.remove('colab-df-spinner');\n",
              "      quickchartButtonEl.classList.add('colab-df-quickchart-complete');\n",
              "    }\n",
              "    (() => {\n",
              "      let quickchartButtonEl =\n",
              "        document.querySelector('#df-9871db8f-3070-4c8d-bbbc-dfe981cc0d10 button');\n",
              "      quickchartButtonEl.style.display =\n",
              "        google.colab.kernel.accessAllowed ? 'block' : 'none';\n",
              "    })();\n",
              "  </script>\n",
              "</div>\n",
              "\n",
              "    </div>\n",
              "  </div>\n"
            ],
            "application/vnd.google.colaboratory.intrinsic+json": {
              "type": "dataframe",
              "variable_name": "automobile_data"
            }
          },
          "metadata": {},
          "execution_count": 93
        }
      ]
    },
    {
      "cell_type": "markdown",
      "source": [
        "# Select features of interest"
      ],
      "metadata": {
        "id": "Rh7-jR4TG0_l"
      }
    },
    {
      "cell_type": "code",
      "source": [
        "automobile_data = automobile_data[[\"wheel-base\",\"compression-ratio\",\"engine-size\",\"length\",\"width\",\"city-mpg\"]]\n",
        "automobile_data.head()"
      ],
      "metadata": {
        "colab": {
          "base_uri": "https://localhost:8080/",
          "height": 0
        },
        "id": "8NXE-KpW9_kg",
        "outputId": "5b4f21f3-ae1c-4726-81c5-5375b2840f20"
      },
      "execution_count": 94,
      "outputs": [
        {
          "output_type": "execute_result",
          "data": {
            "text/plain": [
              "   wheel-base  compression-ratio  engine-size  length  width  city-mpg\n",
              "0        88.6                9.0          130   168.8   64.1        21\n",
              "1        88.6                9.0          130   168.8   64.1        21\n",
              "2        94.5                9.0          152   171.2   65.5        19\n",
              "3        99.8               10.0          109   176.6   66.2        24\n",
              "4        99.4                8.0          136   176.6   66.4        18"
            ],
            "text/html": [
              "\n",
              "  <div id=\"df-b05c2667-2c56-485a-9388-e352b6763b58\" class=\"colab-df-container\">\n",
              "    <div>\n",
              "<style scoped>\n",
              "    .dataframe tbody tr th:only-of-type {\n",
              "        vertical-align: middle;\n",
              "    }\n",
              "\n",
              "    .dataframe tbody tr th {\n",
              "        vertical-align: top;\n",
              "    }\n",
              "\n",
              "    .dataframe thead th {\n",
              "        text-align: right;\n",
              "    }\n",
              "</style>\n",
              "<table border=\"1\" class=\"dataframe\">\n",
              "  <thead>\n",
              "    <tr style=\"text-align: right;\">\n",
              "      <th></th>\n",
              "      <th>wheel-base</th>\n",
              "      <th>compression-ratio</th>\n",
              "      <th>engine-size</th>\n",
              "      <th>length</th>\n",
              "      <th>width</th>\n",
              "      <th>city-mpg</th>\n",
              "    </tr>\n",
              "  </thead>\n",
              "  <tbody>\n",
              "    <tr>\n",
              "      <th>0</th>\n",
              "      <td>88.6</td>\n",
              "      <td>9.0</td>\n",
              "      <td>130</td>\n",
              "      <td>168.8</td>\n",
              "      <td>64.1</td>\n",
              "      <td>21</td>\n",
              "    </tr>\n",
              "    <tr>\n",
              "      <th>1</th>\n",
              "      <td>88.6</td>\n",
              "      <td>9.0</td>\n",
              "      <td>130</td>\n",
              "      <td>168.8</td>\n",
              "      <td>64.1</td>\n",
              "      <td>21</td>\n",
              "    </tr>\n",
              "    <tr>\n",
              "      <th>2</th>\n",
              "      <td>94.5</td>\n",
              "      <td>9.0</td>\n",
              "      <td>152</td>\n",
              "      <td>171.2</td>\n",
              "      <td>65.5</td>\n",
              "      <td>19</td>\n",
              "    </tr>\n",
              "    <tr>\n",
              "      <th>3</th>\n",
              "      <td>99.8</td>\n",
              "      <td>10.0</td>\n",
              "      <td>109</td>\n",
              "      <td>176.6</td>\n",
              "      <td>66.2</td>\n",
              "      <td>24</td>\n",
              "    </tr>\n",
              "    <tr>\n",
              "      <th>4</th>\n",
              "      <td>99.4</td>\n",
              "      <td>8.0</td>\n",
              "      <td>136</td>\n",
              "      <td>176.6</td>\n",
              "      <td>66.4</td>\n",
              "      <td>18</td>\n",
              "    </tr>\n",
              "  </tbody>\n",
              "</table>\n",
              "</div>\n",
              "    <div class=\"colab-df-buttons\">\n",
              "\n",
              "  <div class=\"colab-df-container\">\n",
              "    <button class=\"colab-df-convert\" onclick=\"convertToInteractive('df-b05c2667-2c56-485a-9388-e352b6763b58')\"\n",
              "            title=\"Convert this dataframe to an interactive table.\"\n",
              "            style=\"display:none;\">\n",
              "\n",
              "  <svg xmlns=\"http://www.w3.org/2000/svg\" height=\"24px\" viewBox=\"0 -960 960 960\">\n",
              "    <path d=\"M120-120v-720h720v720H120Zm60-500h600v-160H180v160Zm220 220h160v-160H400v160Zm0 220h160v-160H400v160ZM180-400h160v-160H180v160Zm440 0h160v-160H620v160ZM180-180h160v-160H180v160Zm440 0h160v-160H620v160Z\"/>\n",
              "  </svg>\n",
              "    </button>\n",
              "\n",
              "  <style>\n",
              "    .colab-df-container {\n",
              "      display:flex;\n",
              "      gap: 12px;\n",
              "    }\n",
              "\n",
              "    .colab-df-convert {\n",
              "      background-color: #E8F0FE;\n",
              "      border: none;\n",
              "      border-radius: 50%;\n",
              "      cursor: pointer;\n",
              "      display: none;\n",
              "      fill: #1967D2;\n",
              "      height: 32px;\n",
              "      padding: 0 0 0 0;\n",
              "      width: 32px;\n",
              "    }\n",
              "\n",
              "    .colab-df-convert:hover {\n",
              "      background-color: #E2EBFA;\n",
              "      box-shadow: 0px 1px 2px rgba(60, 64, 67, 0.3), 0px 1px 3px 1px rgba(60, 64, 67, 0.15);\n",
              "      fill: #174EA6;\n",
              "    }\n",
              "\n",
              "    .colab-df-buttons div {\n",
              "      margin-bottom: 4px;\n",
              "    }\n",
              "\n",
              "    [theme=dark] .colab-df-convert {\n",
              "      background-color: #3B4455;\n",
              "      fill: #D2E3FC;\n",
              "    }\n",
              "\n",
              "    [theme=dark] .colab-df-convert:hover {\n",
              "      background-color: #434B5C;\n",
              "      box-shadow: 0px 1px 3px 1px rgba(0, 0, 0, 0.15);\n",
              "      filter: drop-shadow(0px 1px 2px rgba(0, 0, 0, 0.3));\n",
              "      fill: #FFFFFF;\n",
              "    }\n",
              "  </style>\n",
              "\n",
              "    <script>\n",
              "      const buttonEl =\n",
              "        document.querySelector('#df-b05c2667-2c56-485a-9388-e352b6763b58 button.colab-df-convert');\n",
              "      buttonEl.style.display =\n",
              "        google.colab.kernel.accessAllowed ? 'block' : 'none';\n",
              "\n",
              "      async function convertToInteractive(key) {\n",
              "        const element = document.querySelector('#df-b05c2667-2c56-485a-9388-e352b6763b58');\n",
              "        const dataTable =\n",
              "          await google.colab.kernel.invokeFunction('convertToInteractive',\n",
              "                                                    [key], {});\n",
              "        if (!dataTable) return;\n",
              "\n",
              "        const docLinkHtml = 'Like what you see? Visit the ' +\n",
              "          '<a target=\"_blank\" href=https://colab.research.google.com/notebooks/data_table.ipynb>data table notebook</a>'\n",
              "          + ' to learn more about interactive tables.';\n",
              "        element.innerHTML = '';\n",
              "        dataTable['output_type'] = 'display_data';\n",
              "        await google.colab.output.renderOutput(dataTable, element);\n",
              "        const docLink = document.createElement('div');\n",
              "        docLink.innerHTML = docLinkHtml;\n",
              "        element.appendChild(docLink);\n",
              "      }\n",
              "    </script>\n",
              "  </div>\n",
              "\n",
              "\n",
              "<div id=\"df-f6785147-9ced-46a5-9b59-34d1cbe1aed0\">\n",
              "  <button class=\"colab-df-quickchart\" onclick=\"quickchart('df-f6785147-9ced-46a5-9b59-34d1cbe1aed0')\"\n",
              "            title=\"Suggest charts\"\n",
              "            style=\"display:none;\">\n",
              "\n",
              "<svg xmlns=\"http://www.w3.org/2000/svg\" height=\"24px\"viewBox=\"0 0 24 24\"\n",
              "     width=\"24px\">\n",
              "    <g>\n",
              "        <path d=\"M19 3H5c-1.1 0-2 .9-2 2v14c0 1.1.9 2 2 2h14c1.1 0 2-.9 2-2V5c0-1.1-.9-2-2-2zM9 17H7v-7h2v7zm4 0h-2V7h2v10zm4 0h-2v-4h2v4z\"/>\n",
              "    </g>\n",
              "</svg>\n",
              "  </button>\n",
              "\n",
              "<style>\n",
              "  .colab-df-quickchart {\n",
              "      --bg-color: #E8F0FE;\n",
              "      --fill-color: #1967D2;\n",
              "      --hover-bg-color: #E2EBFA;\n",
              "      --hover-fill-color: #174EA6;\n",
              "      --disabled-fill-color: #AAA;\n",
              "      --disabled-bg-color: #DDD;\n",
              "  }\n",
              "\n",
              "  [theme=dark] .colab-df-quickchart {\n",
              "      --bg-color: #3B4455;\n",
              "      --fill-color: #D2E3FC;\n",
              "      --hover-bg-color: #434B5C;\n",
              "      --hover-fill-color: #FFFFFF;\n",
              "      --disabled-bg-color: #3B4455;\n",
              "      --disabled-fill-color: #666;\n",
              "  }\n",
              "\n",
              "  .colab-df-quickchart {\n",
              "    background-color: var(--bg-color);\n",
              "    border: none;\n",
              "    border-radius: 50%;\n",
              "    cursor: pointer;\n",
              "    display: none;\n",
              "    fill: var(--fill-color);\n",
              "    height: 32px;\n",
              "    padding: 0;\n",
              "    width: 32px;\n",
              "  }\n",
              "\n",
              "  .colab-df-quickchart:hover {\n",
              "    background-color: var(--hover-bg-color);\n",
              "    box-shadow: 0 1px 2px rgba(60, 64, 67, 0.3), 0 1px 3px 1px rgba(60, 64, 67, 0.15);\n",
              "    fill: var(--button-hover-fill-color);\n",
              "  }\n",
              "\n",
              "  .colab-df-quickchart-complete:disabled,\n",
              "  .colab-df-quickchart-complete:disabled:hover {\n",
              "    background-color: var(--disabled-bg-color);\n",
              "    fill: var(--disabled-fill-color);\n",
              "    box-shadow: none;\n",
              "  }\n",
              "\n",
              "  .colab-df-spinner {\n",
              "    border: 2px solid var(--fill-color);\n",
              "    border-color: transparent;\n",
              "    border-bottom-color: var(--fill-color);\n",
              "    animation:\n",
              "      spin 1s steps(1) infinite;\n",
              "  }\n",
              "\n",
              "  @keyframes spin {\n",
              "    0% {\n",
              "      border-color: transparent;\n",
              "      border-bottom-color: var(--fill-color);\n",
              "      border-left-color: var(--fill-color);\n",
              "    }\n",
              "    20% {\n",
              "      border-color: transparent;\n",
              "      border-left-color: var(--fill-color);\n",
              "      border-top-color: var(--fill-color);\n",
              "    }\n",
              "    30% {\n",
              "      border-color: transparent;\n",
              "      border-left-color: var(--fill-color);\n",
              "      border-top-color: var(--fill-color);\n",
              "      border-right-color: var(--fill-color);\n",
              "    }\n",
              "    40% {\n",
              "      border-color: transparent;\n",
              "      border-right-color: var(--fill-color);\n",
              "      border-top-color: var(--fill-color);\n",
              "    }\n",
              "    60% {\n",
              "      border-color: transparent;\n",
              "      border-right-color: var(--fill-color);\n",
              "    }\n",
              "    80% {\n",
              "      border-color: transparent;\n",
              "      border-right-color: var(--fill-color);\n",
              "      border-bottom-color: var(--fill-color);\n",
              "    }\n",
              "    90% {\n",
              "      border-color: transparent;\n",
              "      border-bottom-color: var(--fill-color);\n",
              "    }\n",
              "  }\n",
              "</style>\n",
              "\n",
              "  <script>\n",
              "    async function quickchart(key) {\n",
              "      const quickchartButtonEl =\n",
              "        document.querySelector('#' + key + ' button');\n",
              "      quickchartButtonEl.disabled = true;  // To prevent multiple clicks.\n",
              "      quickchartButtonEl.classList.add('colab-df-spinner');\n",
              "      try {\n",
              "        const charts = await google.colab.kernel.invokeFunction(\n",
              "            'suggestCharts', [key], {});\n",
              "      } catch (error) {\n",
              "        console.error('Error during call to suggestCharts:', error);\n",
              "      }\n",
              "      quickchartButtonEl.classList.remove('colab-df-spinner');\n",
              "      quickchartButtonEl.classList.add('colab-df-quickchart-complete');\n",
              "    }\n",
              "    (() => {\n",
              "      let quickchartButtonEl =\n",
              "        document.querySelector('#df-f6785147-9ced-46a5-9b59-34d1cbe1aed0 button');\n",
              "      quickchartButtonEl.style.display =\n",
              "        google.colab.kernel.accessAllowed ? 'block' : 'none';\n",
              "    })();\n",
              "  </script>\n",
              "</div>\n",
              "\n",
              "    </div>\n",
              "  </div>\n"
            ],
            "application/vnd.google.colaboratory.intrinsic+json": {
              "type": "dataframe",
              "variable_name": "automobile_data",
              "summary": "{\n  \"name\": \"automobile_data\",\n  \"rows\": 205,\n  \"fields\": [\n    {\n      \"column\": \"wheel-base\",\n      \"properties\": {\n        \"dtype\": \"number\",\n        \"std\": 6.021775685025571,\n        \"min\": 86.6,\n        \"max\": 120.9,\n        \"num_unique_values\": 53,\n        \"samples\": [\n          93.1,\n          96.1,\n          102.4\n        ],\n        \"semantic_type\": \"\",\n        \"description\": \"\"\n      }\n    },\n    {\n      \"column\": \"compression-ratio\",\n      \"properties\": {\n        \"dtype\": \"number\",\n        \"std\": 3.972040321863298,\n        \"min\": 7.0,\n        \"max\": 23.0,\n        \"num_unique_values\": 32,\n        \"samples\": [\n          7.7,\n          8.1,\n          8.4\n        ],\n        \"semantic_type\": \"\",\n        \"description\": \"\"\n      }\n    },\n    {\n      \"column\": \"engine-size\",\n      \"properties\": {\n        \"dtype\": \"number\",\n        \"std\": 41,\n        \"min\": 61,\n        \"max\": 326,\n        \"num_unique_values\": 44,\n        \"samples\": [\n          121,\n          134,\n          183\n        ],\n        \"semantic_type\": \"\",\n        \"description\": \"\"\n      }\n    },\n    {\n      \"column\": \"length\",\n      \"properties\": {\n        \"dtype\": \"number\",\n        \"std\": 12.33728852655518,\n        \"min\": 141.1,\n        \"max\": 208.1,\n        \"num_unique_values\": 75,\n        \"samples\": [\n          192.7,\n          166.3,\n          141.1\n        ],\n        \"semantic_type\": \"\",\n        \"description\": \"\"\n      }\n    },\n    {\n      \"column\": \"width\",\n      \"properties\": {\n        \"dtype\": \"number\",\n        \"std\": 2.145203852687183,\n        \"min\": 60.3,\n        \"max\": 72.3,\n        \"num_unique_values\": 44,\n        \"samples\": [\n          66.6,\n          66.5,\n          66.1\n        ],\n        \"semantic_type\": \"\",\n        \"description\": \"\"\n      }\n    },\n    {\n      \"column\": \"city-mpg\",\n      \"properties\": {\n        \"dtype\": \"number\",\n        \"std\": 6,\n        \"min\": 13,\n        \"max\": 49,\n        \"num_unique_values\": 29,\n        \"samples\": [\n          29,\n          25,\n          31\n        ],\n        \"semantic_type\": \"\",\n        \"description\": \"\"\n      }\n    }\n  ]\n}"
            }
          },
          "metadata": {},
          "execution_count": 94
        }
      ]
    },
    {
      "cell_type": "markdown",
      "source": [
        "# Check for missing values\n"
      ],
      "metadata": {
        "id": "hwFTetttGuzK"
      }
    },
    {
      "cell_type": "code",
      "source": [
        "automobile_data.isnull().sum()"
      ],
      "metadata": {
        "colab": {
          "base_uri": "https://localhost:8080/",
          "height": 0
        },
        "id": "fxH0rKNt_fPJ",
        "outputId": "483366cf-5c50-424c-c458-ed8fab658af8"
      },
      "execution_count": 95,
      "outputs": [
        {
          "output_type": "execute_result",
          "data": {
            "text/plain": [
              "wheel-base           0\n",
              "compression-ratio    0\n",
              "engine-size          0\n",
              "length               0\n",
              "width                0\n",
              "city-mpg             0\n",
              "dtype: int64"
            ],
            "text/html": [
              "<div>\n",
              "<style scoped>\n",
              "    .dataframe tbody tr th:only-of-type {\n",
              "        vertical-align: middle;\n",
              "    }\n",
              "\n",
              "    .dataframe tbody tr th {\n",
              "        vertical-align: top;\n",
              "    }\n",
              "\n",
              "    .dataframe thead th {\n",
              "        text-align: right;\n",
              "    }\n",
              "</style>\n",
              "<table border=\"1\" class=\"dataframe\">\n",
              "  <thead>\n",
              "    <tr style=\"text-align: right;\">\n",
              "      <th></th>\n",
              "      <th>0</th>\n",
              "    </tr>\n",
              "  </thead>\n",
              "  <tbody>\n",
              "    <tr>\n",
              "      <th>wheel-base</th>\n",
              "      <td>0</td>\n",
              "    </tr>\n",
              "    <tr>\n",
              "      <th>compression-ratio</th>\n",
              "      <td>0</td>\n",
              "    </tr>\n",
              "    <tr>\n",
              "      <th>engine-size</th>\n",
              "      <td>0</td>\n",
              "    </tr>\n",
              "    <tr>\n",
              "      <th>length</th>\n",
              "      <td>0</td>\n",
              "    </tr>\n",
              "    <tr>\n",
              "      <th>width</th>\n",
              "      <td>0</td>\n",
              "    </tr>\n",
              "    <tr>\n",
              "      <th>city-mpg</th>\n",
              "      <td>0</td>\n",
              "    </tr>\n",
              "  </tbody>\n",
              "</table>\n",
              "</div><br><label><b>dtype:</b> int64</label>"
            ]
          },
          "metadata": {},
          "execution_count": 95
        }
      ]
    },
    {
      "cell_type": "markdown",
      "source": [
        "# Split data into features(x) and target(y)"
      ],
      "metadata": {
        "id": "ca4vpip8GmiX"
      }
    },
    {
      "cell_type": "code",
      "source": [
        "y = automobile_data[\"city-mpg\"]\n",
        "x = automobile_data.drop(\"city-mpg\",axis=1)\n",
        "x.head()"
      ],
      "metadata": {
        "colab": {
          "base_uri": "https://localhost:8080/",
          "height": 0
        },
        "id": "vbFZE6drAX8r",
        "outputId": "c3e38277-330a-492b-adb1-37fc7c568a56"
      },
      "execution_count": 96,
      "outputs": [
        {
          "output_type": "execute_result",
          "data": {
            "text/plain": [
              "   wheel-base  compression-ratio  engine-size  length  width\n",
              "0        88.6                9.0          130   168.8   64.1\n",
              "1        88.6                9.0          130   168.8   64.1\n",
              "2        94.5                9.0          152   171.2   65.5\n",
              "3        99.8               10.0          109   176.6   66.2\n",
              "4        99.4                8.0          136   176.6   66.4"
            ],
            "text/html": [
              "\n",
              "  <div id=\"df-4297567d-f57c-47fb-ad93-fd3dfcb62fdc\" class=\"colab-df-container\">\n",
              "    <div>\n",
              "<style scoped>\n",
              "    .dataframe tbody tr th:only-of-type {\n",
              "        vertical-align: middle;\n",
              "    }\n",
              "\n",
              "    .dataframe tbody tr th {\n",
              "        vertical-align: top;\n",
              "    }\n",
              "\n",
              "    .dataframe thead th {\n",
              "        text-align: right;\n",
              "    }\n",
              "</style>\n",
              "<table border=\"1\" class=\"dataframe\">\n",
              "  <thead>\n",
              "    <tr style=\"text-align: right;\">\n",
              "      <th></th>\n",
              "      <th>wheel-base</th>\n",
              "      <th>compression-ratio</th>\n",
              "      <th>engine-size</th>\n",
              "      <th>length</th>\n",
              "      <th>width</th>\n",
              "    </tr>\n",
              "  </thead>\n",
              "  <tbody>\n",
              "    <tr>\n",
              "      <th>0</th>\n",
              "      <td>88.6</td>\n",
              "      <td>9.0</td>\n",
              "      <td>130</td>\n",
              "      <td>168.8</td>\n",
              "      <td>64.1</td>\n",
              "    </tr>\n",
              "    <tr>\n",
              "      <th>1</th>\n",
              "      <td>88.6</td>\n",
              "      <td>9.0</td>\n",
              "      <td>130</td>\n",
              "      <td>168.8</td>\n",
              "      <td>64.1</td>\n",
              "    </tr>\n",
              "    <tr>\n",
              "      <th>2</th>\n",
              "      <td>94.5</td>\n",
              "      <td>9.0</td>\n",
              "      <td>152</td>\n",
              "      <td>171.2</td>\n",
              "      <td>65.5</td>\n",
              "    </tr>\n",
              "    <tr>\n",
              "      <th>3</th>\n",
              "      <td>99.8</td>\n",
              "      <td>10.0</td>\n",
              "      <td>109</td>\n",
              "      <td>176.6</td>\n",
              "      <td>66.2</td>\n",
              "    </tr>\n",
              "    <tr>\n",
              "      <th>4</th>\n",
              "      <td>99.4</td>\n",
              "      <td>8.0</td>\n",
              "      <td>136</td>\n",
              "      <td>176.6</td>\n",
              "      <td>66.4</td>\n",
              "    </tr>\n",
              "  </tbody>\n",
              "</table>\n",
              "</div>\n",
              "    <div class=\"colab-df-buttons\">\n",
              "\n",
              "  <div class=\"colab-df-container\">\n",
              "    <button class=\"colab-df-convert\" onclick=\"convertToInteractive('df-4297567d-f57c-47fb-ad93-fd3dfcb62fdc')\"\n",
              "            title=\"Convert this dataframe to an interactive table.\"\n",
              "            style=\"display:none;\">\n",
              "\n",
              "  <svg xmlns=\"http://www.w3.org/2000/svg\" height=\"24px\" viewBox=\"0 -960 960 960\">\n",
              "    <path d=\"M120-120v-720h720v720H120Zm60-500h600v-160H180v160Zm220 220h160v-160H400v160Zm0 220h160v-160H400v160ZM180-400h160v-160H180v160Zm440 0h160v-160H620v160ZM180-180h160v-160H180v160Zm440 0h160v-160H620v160Z\"/>\n",
              "  </svg>\n",
              "    </button>\n",
              "\n",
              "  <style>\n",
              "    .colab-df-container {\n",
              "      display:flex;\n",
              "      gap: 12px;\n",
              "    }\n",
              "\n",
              "    .colab-df-convert {\n",
              "      background-color: #E8F0FE;\n",
              "      border: none;\n",
              "      border-radius: 50%;\n",
              "      cursor: pointer;\n",
              "      display: none;\n",
              "      fill: #1967D2;\n",
              "      height: 32px;\n",
              "      padding: 0 0 0 0;\n",
              "      width: 32px;\n",
              "    }\n",
              "\n",
              "    .colab-df-convert:hover {\n",
              "      background-color: #E2EBFA;\n",
              "      box-shadow: 0px 1px 2px rgba(60, 64, 67, 0.3), 0px 1px 3px 1px rgba(60, 64, 67, 0.15);\n",
              "      fill: #174EA6;\n",
              "    }\n",
              "\n",
              "    .colab-df-buttons div {\n",
              "      margin-bottom: 4px;\n",
              "    }\n",
              "\n",
              "    [theme=dark] .colab-df-convert {\n",
              "      background-color: #3B4455;\n",
              "      fill: #D2E3FC;\n",
              "    }\n",
              "\n",
              "    [theme=dark] .colab-df-convert:hover {\n",
              "      background-color: #434B5C;\n",
              "      box-shadow: 0px 1px 3px 1px rgba(0, 0, 0, 0.15);\n",
              "      filter: drop-shadow(0px 1px 2px rgba(0, 0, 0, 0.3));\n",
              "      fill: #FFFFFF;\n",
              "    }\n",
              "  </style>\n",
              "\n",
              "    <script>\n",
              "      const buttonEl =\n",
              "        document.querySelector('#df-4297567d-f57c-47fb-ad93-fd3dfcb62fdc button.colab-df-convert');\n",
              "      buttonEl.style.display =\n",
              "        google.colab.kernel.accessAllowed ? 'block' : 'none';\n",
              "\n",
              "      async function convertToInteractive(key) {\n",
              "        const element = document.querySelector('#df-4297567d-f57c-47fb-ad93-fd3dfcb62fdc');\n",
              "        const dataTable =\n",
              "          await google.colab.kernel.invokeFunction('convertToInteractive',\n",
              "                                                    [key], {});\n",
              "        if (!dataTable) return;\n",
              "\n",
              "        const docLinkHtml = 'Like what you see? Visit the ' +\n",
              "          '<a target=\"_blank\" href=https://colab.research.google.com/notebooks/data_table.ipynb>data table notebook</a>'\n",
              "          + ' to learn more about interactive tables.';\n",
              "        element.innerHTML = '';\n",
              "        dataTable['output_type'] = 'display_data';\n",
              "        await google.colab.output.renderOutput(dataTable, element);\n",
              "        const docLink = document.createElement('div');\n",
              "        docLink.innerHTML = docLinkHtml;\n",
              "        element.appendChild(docLink);\n",
              "      }\n",
              "    </script>\n",
              "  </div>\n",
              "\n",
              "\n",
              "<div id=\"df-a8e65459-b1a1-43fa-a1d2-9f28bcecae14\">\n",
              "  <button class=\"colab-df-quickchart\" onclick=\"quickchart('df-a8e65459-b1a1-43fa-a1d2-9f28bcecae14')\"\n",
              "            title=\"Suggest charts\"\n",
              "            style=\"display:none;\">\n",
              "\n",
              "<svg xmlns=\"http://www.w3.org/2000/svg\" height=\"24px\"viewBox=\"0 0 24 24\"\n",
              "     width=\"24px\">\n",
              "    <g>\n",
              "        <path d=\"M19 3H5c-1.1 0-2 .9-2 2v14c0 1.1.9 2 2 2h14c1.1 0 2-.9 2-2V5c0-1.1-.9-2-2-2zM9 17H7v-7h2v7zm4 0h-2V7h2v10zm4 0h-2v-4h2v4z\"/>\n",
              "    </g>\n",
              "</svg>\n",
              "  </button>\n",
              "\n",
              "<style>\n",
              "  .colab-df-quickchart {\n",
              "      --bg-color: #E8F0FE;\n",
              "      --fill-color: #1967D2;\n",
              "      --hover-bg-color: #E2EBFA;\n",
              "      --hover-fill-color: #174EA6;\n",
              "      --disabled-fill-color: #AAA;\n",
              "      --disabled-bg-color: #DDD;\n",
              "  }\n",
              "\n",
              "  [theme=dark] .colab-df-quickchart {\n",
              "      --bg-color: #3B4455;\n",
              "      --fill-color: #D2E3FC;\n",
              "      --hover-bg-color: #434B5C;\n",
              "      --hover-fill-color: #FFFFFF;\n",
              "      --disabled-bg-color: #3B4455;\n",
              "      --disabled-fill-color: #666;\n",
              "  }\n",
              "\n",
              "  .colab-df-quickchart {\n",
              "    background-color: var(--bg-color);\n",
              "    border: none;\n",
              "    border-radius: 50%;\n",
              "    cursor: pointer;\n",
              "    display: none;\n",
              "    fill: var(--fill-color);\n",
              "    height: 32px;\n",
              "    padding: 0;\n",
              "    width: 32px;\n",
              "  }\n",
              "\n",
              "  .colab-df-quickchart:hover {\n",
              "    background-color: var(--hover-bg-color);\n",
              "    box-shadow: 0 1px 2px rgba(60, 64, 67, 0.3), 0 1px 3px 1px rgba(60, 64, 67, 0.15);\n",
              "    fill: var(--button-hover-fill-color);\n",
              "  }\n",
              "\n",
              "  .colab-df-quickchart-complete:disabled,\n",
              "  .colab-df-quickchart-complete:disabled:hover {\n",
              "    background-color: var(--disabled-bg-color);\n",
              "    fill: var(--disabled-fill-color);\n",
              "    box-shadow: none;\n",
              "  }\n",
              "\n",
              "  .colab-df-spinner {\n",
              "    border: 2px solid var(--fill-color);\n",
              "    border-color: transparent;\n",
              "    border-bottom-color: var(--fill-color);\n",
              "    animation:\n",
              "      spin 1s steps(1) infinite;\n",
              "  }\n",
              "\n",
              "  @keyframes spin {\n",
              "    0% {\n",
              "      border-color: transparent;\n",
              "      border-bottom-color: var(--fill-color);\n",
              "      border-left-color: var(--fill-color);\n",
              "    }\n",
              "    20% {\n",
              "      border-color: transparent;\n",
              "      border-left-color: var(--fill-color);\n",
              "      border-top-color: var(--fill-color);\n",
              "    }\n",
              "    30% {\n",
              "      border-color: transparent;\n",
              "      border-left-color: var(--fill-color);\n",
              "      border-top-color: var(--fill-color);\n",
              "      border-right-color: var(--fill-color);\n",
              "    }\n",
              "    40% {\n",
              "      border-color: transparent;\n",
              "      border-right-color: var(--fill-color);\n",
              "      border-top-color: var(--fill-color);\n",
              "    }\n",
              "    60% {\n",
              "      border-color: transparent;\n",
              "      border-right-color: var(--fill-color);\n",
              "    }\n",
              "    80% {\n",
              "      border-color: transparent;\n",
              "      border-right-color: var(--fill-color);\n",
              "      border-bottom-color: var(--fill-color);\n",
              "    }\n",
              "    90% {\n",
              "      border-color: transparent;\n",
              "      border-bottom-color: var(--fill-color);\n",
              "    }\n",
              "  }\n",
              "</style>\n",
              "\n",
              "  <script>\n",
              "    async function quickchart(key) {\n",
              "      const quickchartButtonEl =\n",
              "        document.querySelector('#' + key + ' button');\n",
              "      quickchartButtonEl.disabled = true;  // To prevent multiple clicks.\n",
              "      quickchartButtonEl.classList.add('colab-df-spinner');\n",
              "      try {\n",
              "        const charts = await google.colab.kernel.invokeFunction(\n",
              "            'suggestCharts', [key], {});\n",
              "      } catch (error) {\n",
              "        console.error('Error during call to suggestCharts:', error);\n",
              "      }\n",
              "      quickchartButtonEl.classList.remove('colab-df-spinner');\n",
              "      quickchartButtonEl.classList.add('colab-df-quickchart-complete');\n",
              "    }\n",
              "    (() => {\n",
              "      let quickchartButtonEl =\n",
              "        document.querySelector('#df-a8e65459-b1a1-43fa-a1d2-9f28bcecae14 button');\n",
              "      quickchartButtonEl.style.display =\n",
              "        google.colab.kernel.accessAllowed ? 'block' : 'none';\n",
              "    })();\n",
              "  </script>\n",
              "</div>\n",
              "\n",
              "    </div>\n",
              "  </div>\n"
            ],
            "application/vnd.google.colaboratory.intrinsic+json": {
              "type": "dataframe",
              "variable_name": "x",
              "summary": "{\n  \"name\": \"x\",\n  \"rows\": 205,\n  \"fields\": [\n    {\n      \"column\": \"wheel-base\",\n      \"properties\": {\n        \"dtype\": \"number\",\n        \"std\": 6.021775685025571,\n        \"min\": 86.6,\n        \"max\": 120.9,\n        \"num_unique_values\": 53,\n        \"samples\": [\n          93.1,\n          96.1,\n          102.4\n        ],\n        \"semantic_type\": \"\",\n        \"description\": \"\"\n      }\n    },\n    {\n      \"column\": \"compression-ratio\",\n      \"properties\": {\n        \"dtype\": \"number\",\n        \"std\": 3.972040321863298,\n        \"min\": 7.0,\n        \"max\": 23.0,\n        \"num_unique_values\": 32,\n        \"samples\": [\n          7.7,\n          8.1,\n          8.4\n        ],\n        \"semantic_type\": \"\",\n        \"description\": \"\"\n      }\n    },\n    {\n      \"column\": \"engine-size\",\n      \"properties\": {\n        \"dtype\": \"number\",\n        \"std\": 41,\n        \"min\": 61,\n        \"max\": 326,\n        \"num_unique_values\": 44,\n        \"samples\": [\n          121,\n          134,\n          183\n        ],\n        \"semantic_type\": \"\",\n        \"description\": \"\"\n      }\n    },\n    {\n      \"column\": \"length\",\n      \"properties\": {\n        \"dtype\": \"number\",\n        \"std\": 12.33728852655518,\n        \"min\": 141.1,\n        \"max\": 208.1,\n        \"num_unique_values\": 75,\n        \"samples\": [\n          192.7,\n          166.3,\n          141.1\n        ],\n        \"semantic_type\": \"\",\n        \"description\": \"\"\n      }\n    },\n    {\n      \"column\": \"width\",\n      \"properties\": {\n        \"dtype\": \"number\",\n        \"std\": 2.145203852687183,\n        \"min\": 60.3,\n        \"max\": 72.3,\n        \"num_unique_values\": 44,\n        \"samples\": [\n          66.6,\n          66.5,\n          66.1\n        ],\n        \"semantic_type\": \"\",\n        \"description\": \"\"\n      }\n    }\n  ]\n}"
            }
          },
          "metadata": {},
          "execution_count": 96
        }
      ]
    },
    {
      "cell_type": "code",
      "source": [
        "y.head()"
      ],
      "metadata": {
        "colab": {
          "base_uri": "https://localhost:8080/",
          "height": 0
        },
        "id": "621m3KWAAcgQ",
        "outputId": "0e7bac9e-3277-446c-b10e-cccb4e2e46df"
      },
      "execution_count": 97,
      "outputs": [
        {
          "output_type": "execute_result",
          "data": {
            "text/plain": [
              "0    21\n",
              "1    21\n",
              "2    19\n",
              "3    24\n",
              "4    18\n",
              "Name: city-mpg, dtype: int64"
            ],
            "text/html": [
              "<div>\n",
              "<style scoped>\n",
              "    .dataframe tbody tr th:only-of-type {\n",
              "        vertical-align: middle;\n",
              "    }\n",
              "\n",
              "    .dataframe tbody tr th {\n",
              "        vertical-align: top;\n",
              "    }\n",
              "\n",
              "    .dataframe thead th {\n",
              "        text-align: right;\n",
              "    }\n",
              "</style>\n",
              "<table border=\"1\" class=\"dataframe\">\n",
              "  <thead>\n",
              "    <tr style=\"text-align: right;\">\n",
              "      <th></th>\n",
              "      <th>city-mpg</th>\n",
              "    </tr>\n",
              "  </thead>\n",
              "  <tbody>\n",
              "    <tr>\n",
              "      <th>0</th>\n",
              "      <td>21</td>\n",
              "    </tr>\n",
              "    <tr>\n",
              "      <th>1</th>\n",
              "      <td>21</td>\n",
              "    </tr>\n",
              "    <tr>\n",
              "      <th>2</th>\n",
              "      <td>19</td>\n",
              "    </tr>\n",
              "    <tr>\n",
              "      <th>3</th>\n",
              "      <td>24</td>\n",
              "    </tr>\n",
              "    <tr>\n",
              "      <th>4</th>\n",
              "      <td>18</td>\n",
              "    </tr>\n",
              "  </tbody>\n",
              "</table>\n",
              "</div><br><label><b>dtype:</b> int64</label>"
            ]
          },
          "metadata": {},
          "execution_count": 97
        }
      ]
    },
    {
      "cell_type": "markdown",
      "source": [
        "# Split Data into Training, Test and Validation Data with ratio 60:20:20"
      ],
      "metadata": {
        "id": "_HfEYd1zGYT2"
      }
    },
    {
      "cell_type": "code",
      "source": [
        "train_size = int(0.6 * len(automobile_data))\n",
        "val_size = int(0.8 * len(automobile_data))\n",
        "\n",
        "train_data = automobile_data[:train_size]\n",
        "val_data = automobile_data[train_size:val_size]\n",
        "test_data = automobile_data[val_size:]\n",
        "\n",
        "x_train = x[:train_size]\n",
        "y_train = y[:train_size]\n",
        "x_val = x[train_size:val_size]\n",
        "y_val = y[train_size:val_size]\n",
        "x_test = x[val_size:]\n",
        "y_test = y[val_size:]\n"
      ],
      "metadata": {
        "id": "mHTZOjfNFU4N"
      },
      "execution_count": 98,
      "outputs": []
    },
    {
      "cell_type": "markdown",
      "source": [
        "# Import and fit models with default parameters on training data"
      ],
      "metadata": {
        "id": "stKm7yL4G4y7"
      }
    },
    {
      "cell_type": "code",
      "source": [
        "from sklearn.linear_model import LinearRegression,Ridge,Lasso"
      ],
      "metadata": {
        "id": "bviMLjNEFlcN"
      },
      "execution_count": 99,
      "outputs": []
    },
    {
      "cell_type": "code",
      "source": [
        "# Train models\n",
        "linear = LinearRegression().fit(x_train,y_train)\n",
        "ridge = Ridge().fit(x_train,y_train)\n",
        "lasso = Lasso().fit(x_train,y_train)"
      ],
      "metadata": {
        "id": "ezn7MUieFvK1"
      },
      "execution_count": 100,
      "outputs": []
    },
    {
      "cell_type": "markdown",
      "source": [
        "# Estimate performance on validation data"
      ],
      "metadata": {
        "id": "HzynaAC5HA3k"
      }
    },
    {
      "cell_type": "code",
      "source": [
        "linear_y_val_pred = linear.predict(x_val)\n",
        "ridge_y_val_pred = ridge.predict(x_val)\n",
        "lasso_y_val_pred = lasso.predict(x_val)"
      ],
      "metadata": {
        "id": "jFlrS6e1OPbI"
      },
      "execution_count": 101,
      "outputs": []
    },
    {
      "cell_type": "markdown",
      "source": [
        "## Mean Square Error (MSE)"
      ],
      "metadata": {
        "id": "kpEVO4goKGsT"
      }
    },
    {
      "cell_type": "code",
      "source": [
        "from sklearn.metrics import mean_squared_error\n",
        "\n",
        "linear_val_error = mean_squared_error(y_val, linear_y_val_pred)\n",
        "print(f\"Validation MSE for linear model: {linear_val_error}\")\n",
        "\n",
        "ridge_val_error = mean_squared_error(y_val, ridge_y_val_pred)\n",
        "print(f\"Validation MSE for ridge model: {ridge_val_error}\")\n",
        "\n",
        "lasso_val_error = mean_squared_error(y_val, lasso_y_val_pred)\n",
        "print(f\"Validation MSE for lasso model: {lasso_val_error}\")"
      ],
      "metadata": {
        "colab": {
          "base_uri": "https://localhost:8080/"
        },
        "id": "POmDYEIaHFwa",
        "outputId": "1a3c31f2-46e8-4615-c88a-c313a07cc0e6"
      },
      "execution_count": 102,
      "outputs": [
        {
          "output_type": "stream",
          "name": "stdout",
          "text": [
            "Validation MSE for linear model: 10.786733256258682\n",
            "Validation MSE for ridge model: 10.783145476534969\n",
            "Validation MSE for lasso model: 11.321814574312063\n"
          ]
        }
      ]
    },
    {
      "cell_type": "markdown",
      "source": [
        "## Pearson Correlation Coefficient(PCC)"
      ],
      "metadata": {
        "id": "W_2NKJPWKdqB"
      }
    },
    {
      "cell_type": "code",
      "source": [
        "from scipy.stats import pearsonr\n",
        "\n",
        "pearson_linear_val_error = pearsonr(y_val, linear_y_val_pred)\n",
        "print(f\"Validation with Pearson for linear model: {pearson_linear_val_error}\")\n",
        "\n",
        "pearson_ridge_val_error = pearsonr(y_val, ridge_y_val_pred)\n",
        "print(f\"Validation with Pearson for ridge model: {pearson_ridge_val_error}\")\n",
        "\n",
        "pearson_lasso_val_error = pearsonr(y_val, lasso_y_val_pred)\n",
        "print(f\"Validation with Pearson for lasso model: {pearson_lasso_val_error}\")\n"
      ],
      "metadata": {
        "colab": {
          "base_uri": "https://localhost:8080/"
        },
        "id": "9lp4tNi7Ka1w",
        "outputId": "b280577c-0974-45f2-8ab7-381d367f6121"
      },
      "execution_count": 103,
      "outputs": [
        {
          "output_type": "stream",
          "name": "stdout",
          "text": [
            "Validation with Pearson for linear model: PearsonRResult(statistic=0.8137650755178986, pvalue=9.91732694096138e-11)\n",
            "Validation with Pearson for ridge model: PearsonRResult(statistic=0.8137715058592367, pvalue=9.911264070336344e-11)\n",
            "Validation with Pearson for lasso model: PearsonRResult(statistic=0.8022903093258726, pvalue=2.849265225556145e-10)\n"
          ]
        }
      ]
    },
    {
      "cell_type": "markdown",
      "source": [
        "## Coefficient of Determination (R2)"
      ],
      "metadata": {
        "id": "dp5cg39EKija"
      }
    },
    {
      "cell_type": "code",
      "source": [
        "from sklearn.metrics import r2_score\n",
        "\n",
        "r2_linear_val_error = r2_score(y_val, linear_y_val_pred)\n",
        "print(f\"Validation R2 for linear model: {r2_linear_val_error}\")\n",
        "\n",
        "r2_ridge_val_error = r2_score(y_val, ridge_y_val_pred)\n",
        "print(f\"Validation R2 for ridge model: {r2_ridge_val_error}\")\n",
        "\n",
        "r2_lasso_val_error = r2_score(y_val, lasso_y_val_pred)\n",
        "print(f\"Validation R2 for lasso model: {r2_lasso_val_error}\")"
      ],
      "metadata": {
        "colab": {
          "base_uri": "https://localhost:8080/"
        },
        "id": "9s4OMd-EKnVF",
        "outputId": "ee20514d-1b18-4e83-881c-e348788d5867"
      },
      "execution_count": 104,
      "outputs": [
        {
          "output_type": "stream",
          "name": "stdout",
          "text": [
            "Validation R2 for linear model: 0.6575672570673281\n",
            "Validation R2 for ridge model: 0.6576811537608536\n",
            "Validation R2 for lasso model: 0.6405807089549294\n"
          ]
        }
      ]
    },
    {
      "cell_type": "markdown",
      "source": [
        "# Estimate performance on test data"
      ],
      "metadata": {
        "id": "F7bwRgUGJlAr"
      }
    },
    {
      "cell_type": "code",
      "source": [
        "linear_y_test_pred = linear.predict(x_test)\n",
        "ridge_y_test_pred = ridge.predict(x_test)\n",
        "lasso_y_test_pred = lasso.predict(x_test)"
      ],
      "metadata": {
        "id": "ZQ1vM5aCJgUW"
      },
      "execution_count": 105,
      "outputs": []
    },
    {
      "cell_type": "markdown",
      "source": [
        "## Mean Square Error"
      ],
      "metadata": {
        "id": "SP6xjYXOOlPE"
      }
    },
    {
      "cell_type": "code",
      "source": [
        "linear_test_error = mean_squared_error(y_test, linear_y_test_pred)\n",
        "print(f\"Test MSE for linear model: {linear_test_error}\")\n",
        "\n",
        "ridge_test_error = mean_squared_error(y_test, ridge_y_test_pred)\n",
        "print(f\"Test MSE for ridge model: {ridge_test_error}\")\n",
        "\n",
        "lasso_test_error = mean_squared_error(y_test, lasso_y_test_pred)\n",
        "print(f\"Test MSE for lasso model: {lasso_test_error}\")"
      ],
      "metadata": {
        "id": "y6x5cSszOp2x",
        "colab": {
          "base_uri": "https://localhost:8080/"
        },
        "outputId": "7bf8fa83-4b12-4991-a793-18537cbc80d6"
      },
      "execution_count": 106,
      "outputs": [
        {
          "output_type": "stream",
          "name": "stdout",
          "text": [
            "Test MSE for linear model: 6.427188600353521\n",
            "Test MSE for ridge model: 6.425083419770051\n",
            "Test MSE for lasso model: 6.067300012625338\n"
          ]
        }
      ]
    },
    {
      "cell_type": "markdown",
      "source": [
        "## Pearson Correlation Coefficient"
      ],
      "metadata": {
        "id": "zOKJnFiNOs8h"
      }
    },
    {
      "cell_type": "code",
      "source": [
        "pearson_linear_test_error = pearsonr(y_test, linear_y_test_pred)\n",
        "print(f\"Test with Pearson for linear model: {pearson_linear_test_error}\")\n",
        "\n",
        "pearson_ridge_test_error = pearsonr(y_test, ridge_y_test_pred)\n",
        "print(f\"Test with Pearson for ridge model: {pearson_ridge_test_error}\")\n",
        "\n",
        "pearson_lasso_test_error = pearsonr(y_test, lasso_y_test_pred)\n",
        "print(f\"Test with Pearson for lasso model: {pearson_lasso_test_error}\")"
      ],
      "metadata": {
        "id": "HqWKyrSYOuZn",
        "colab": {
          "base_uri": "https://localhost:8080/"
        },
        "outputId": "58c21433-15af-4ecb-d1f4-b83fa846cd7c"
      },
      "execution_count": 107,
      "outputs": [
        {
          "output_type": "stream",
          "name": "stdout",
          "text": [
            "Test with Pearson for linear model: PearsonRResult(statistic=0.8781180406480411, pvalue=4.681595081507827e-14)\n",
            "Test with Pearson for ridge model: PearsonRResult(statistic=0.8781658099560552, pvalue=4.648012136777475e-14)\n",
            "Test with Pearson for lasso model: PearsonRResult(statistic=0.8855888965279802, pvalue=1.461736777892162e-14)\n"
          ]
        }
      ]
    },
    {
      "cell_type": "markdown",
      "source": [
        "## Coefficient of Determination"
      ],
      "metadata": {
        "id": "55LOqFwsOyHC"
      }
    },
    {
      "cell_type": "code",
      "source": [
        "r2_linear_test_error = r2_score(y_test, linear_y_test_pred)\n",
        "print(f\"Test R2 for linear model: {r2_linear_test_error}\")\n",
        "\n",
        "r2_ridge_test_error = r2_score(y_test, ridge_y_test_pred)\n",
        "print(f\"Test R2 for ridge model: {r2_ridge_test_error}\")\n",
        "\n",
        "r2_lasso_test_error = r2_score(y_test, lasso_y_test_pred)\n",
        "print(f\"Test R2 for lasso model: {r2_lasso_test_error}\")"
      ],
      "metadata": {
        "id": "X4eDhZiXOy7Z",
        "colab": {
          "base_uri": "https://localhost:8080/"
        },
        "outputId": "d89b3292-0d6e-4087-fb5f-5cb6228cbfdc"
      },
      "execution_count": 108,
      "outputs": [
        {
          "output_type": "stream",
          "name": "stdout",
          "text": [
            "Test R2 for linear model: 0.7388673070722128\n",
            "Test R2 for ridge model: 0.7389528392557293\n",
            "Test R2 for lasso model: 0.7534893575379902\n"
          ]
        }
      ]
    },
    {
      "cell_type": "markdown",
      "source": [
        "# Investigating model performance with alpha values [0., 0.25, 0.5, 1., 1000.]"
      ],
      "metadata": {
        "id": "9nkFkqjVZ6tA"
      }
    },
    {
      "cell_type": "code",
      "source": [
        "# Define the list of alpha values to investigate\n",
        "alpha_values = [0.0, 0.25, 0.5, 1.0, 1000.0]"
      ],
      "metadata": {
        "id": "O-OdF4GA-sOS"
      },
      "execution_count": 109,
      "outputs": []
    },
    {
      "cell_type": "markdown",
      "source": [
        "## Ridge"
      ],
      "metadata": {
        "id": "WzRfZmAi5fMv"
      }
    },
    {
      "cell_type": "code",
      "source": [
        "# Dictionary to store metrics for each alpha value\n",
        "ridge_mse_results_val = {}\n",
        "ridge_pcc_results_val = {}\n",
        "ridge_r2_results_val = {}\n",
        "\n",
        "# Initialize variables to store the best alpha and the corresponding MSE\n",
        "best_mse_ridge = float('inf')\n",
        "best_alpha_ridge = None\n",
        "\n",
        "# Investigate Ridge Regression with different alpha values\n",
        "for alpha in alpha_values:\n",
        "    # Train Ridge Regression model\n",
        "    ridge_model = Ridge(alpha=alpha)\n",
        "    ridge_model.fit(x_train, y_train)\n",
        "\n",
        "    # Predict on the validation set\n",
        "    y_val_pred = ridge_model.predict(x_val)\n",
        "\n",
        "    # Calculate MSE on validation set\n",
        "    mse = mean_squared_error(y_val, y_val_pred)\n",
        "    ridge_mse_results_val[alpha] = mse\n",
        "\n",
        "    # Calculate PCC on validation set\n",
        "    pcc = pearsonr(y_val, y_val_pred)\n",
        "    ridge_pcc_results_val[alpha] = pcc\n",
        "\n",
        "    #Calculate R2 on validation set\n",
        "    r2 = r2_score(y_val, y_val_pred)\n",
        "    ridge_r2_results_val[alpha] = r2\n",
        "\n",
        "    if mse < best_mse_ridge:\n",
        "        best_mse_ridge = mse\n",
        "        best_alpha_ridge = alpha\n",
        "\n"
      ],
      "metadata": {
        "id": "NSEnVDDo5Gdc"
      },
      "execution_count": 110,
      "outputs": []
    },
    {
      "cell_type": "code",
      "source": [
        "print(f\" Validation MSE for Ridge Regression for each alpha value: {ridge_mse_results_val}\")\n",
        "print(f\" Validation PCC for Ridge Regression for each alpha value: {ridge_pcc_results_val}\")\n",
        "print(f\" Validation R2 for Ridge Regression for each alpha value: {ridge_r2_results_val}\")"
      ],
      "metadata": {
        "colab": {
          "base_uri": "https://localhost:8080/"
        },
        "id": "gfkr-2Zjdbm0",
        "outputId": "dadda030-83a7-4f28-a9fc-39f37e148ad7"
      },
      "execution_count": 111,
      "outputs": [
        {
          "output_type": "stream",
          "name": "stdout",
          "text": [
            " Validation MSE for Ridge Regression for each alpha value: {0.0: 10.786733256258652, 0.25: 10.785825650897806, 0.5: 10.784925195638769, 1.0: 10.783145476534969, 1000.0: 10.793083377756878}\n",
            " Validation PCC for Ridge Regression for each alpha value: {0.0: PearsonRResult(statistic=0.8137650755178989, pvalue=9.917326940961173e-11), 0.25: PearsonRResult(statistic=0.8137667550429816, pvalue=9.915743059336427e-11), 0.5: PearsonRResult(statistic=0.8137683862185511, pvalue=9.914205000843161e-11), 1.0: PearsonRResult(statistic=0.8137715058592367, pvalue=9.911264070336344e-11), 1000.0: PearsonRResult(statistic=0.8323966545271881, pvalue=1.5174189861964164e-11)}\n",
            " Validation R2 for Ridge Regression for each alpha value: {0.0: 0.657567257067329, 0.25: 0.6575960696638614, 0.5: 0.6576246552751781, 1.0: 0.6576811537608536, 1000.0: 0.6573656678121825}\n"
          ]
        }
      ]
    },
    {
      "cell_type": "code",
      "source": [
        "print(f\"Best alpha for Ridge Regression: {best_alpha_ridge}, Validation MSE: {best_mse_ridge}\")\n",
        "\n",
        "# Predict on the test set\n",
        "best_ridge = Ridge(alpha=best_alpha_ridge)\n",
        "best_ridge.fit(x_train, y_train)\n",
        "y_test_pred_ridge = best_ridge.predict(x_test)\n",
        "best_mse_ridge = mean_squared_error(y_test, y_test_pred_ridge)\n",
        "best_pcc_ridge = pearsonr(y_test, y_test_pred_ridge)\n",
        "best_r2_ridge = r2_score(y_test, y_test_pred_ridge)\n",
        "\n",
        "print(f\"Test MSE based on best ridge model is: {best_mse_ridge}\")\n",
        "print(f\"Test PCC based on best ridge model is: {best_pcc_ridge}\")\n",
        "print(f\"Test R2 based on best ridge model is: {best_r2_ridge}\")"
      ],
      "metadata": {
        "colab": {
          "base_uri": "https://localhost:8080/"
        },
        "id": "eUrX0DvIB2yI",
        "outputId": "9e292046-ceaa-4929-d8fa-588206a3dd13"
      },
      "execution_count": 112,
      "outputs": [
        {
          "output_type": "stream",
          "name": "stdout",
          "text": [
            "Best alpha for Ridge Regression: 1.0, Validation MSE: 10.783145476534969\n",
            "Test MSE based on best ridge model is: 6.425083419770051\n",
            "Test PCC based on best ridge model is: PearsonRResult(statistic=0.8781658099560552, pvalue=4.648012136777475e-14)\n",
            "Test R2 based on best ridge model is: 0.7389528392557293\n"
          ]
        }
      ]
    },
    {
      "cell_type": "markdown",
      "source": [
        "## Lasso"
      ],
      "metadata": {
        "id": "VeMfHuJv5h7V"
      }
    },
    {
      "cell_type": "code",
      "source": [
        "# Dictionary to store metrics for each alpha value\n",
        "lasso_mse_results_val = {}\n",
        "lasso_pcc_results_val = {}\n",
        "lasso_r2_results_val = {}\n",
        "\n",
        "# Initialize variables to store the best alpha and the corresponding MSE\n",
        "best_mse_lasso = float('inf')\n",
        "best_alpha_lasso = None\n",
        "\n",
        "# Investigate Lasso Regression with different alpha values\n",
        "for alpha in alpha_values:\n",
        "    # Train lasso Regression model\n",
        "    lasso_model = Lasso(alpha=alpha)\n",
        "    lasso_model.fit(x_train, y_train)\n",
        "\n",
        "    # Predict on the validation set\n",
        "    y_val_pred = lasso_model.predict(x_val)\n",
        "\n",
        "    # Calculate MSE on validation set\n",
        "    mse = mean_squared_error(y_val, y_val_pred)\n",
        "    lasso_mse_results_val[alpha] = mse\n",
        "\n",
        "    # Calculate PCC on validation set\n",
        "    pcc = pearsonr(y_val, y_val_pred)\n",
        "    lasso_pcc_results_val[alpha] = pcc\n",
        "\n",
        "    #Calculate R2 on validation set\n",
        "    r2 = r2_score(y_val, y_val_pred)\n",
        "    lasso_r2_results_val[alpha] = r2\n",
        "\n",
        "    if mse < best_mse_lasso:\n",
        "        best_mse_lasso = mse\n",
        "        best_alpha_lasso = alpha\n",
        "\n"
      ],
      "metadata": {
        "colab": {
          "base_uri": "https://localhost:8080/"
        },
        "id": "fTcbFyKm5jYD",
        "outputId": "b5f0368b-aa9c-4949-c756-506b2a148f4c"
      },
      "execution_count": 113,
      "outputs": [
        {
          "output_type": "stream",
          "name": "stderr",
          "text": [
            "/usr/local/lib/python3.10/dist-packages/sklearn/base.py:1152: UserWarning: With alpha=0, this algorithm does not converge well. You are advised to use the LinearRegression estimator\n",
            "  return fit_method(estimator, *args, **kwargs)\n",
            "/usr/local/lib/python3.10/dist-packages/sklearn/linear_model/_coordinate_descent.py:628: UserWarning: Coordinate descent with no regularization may lead to unexpected results and is discouraged.\n",
            "  model = cd_fast.enet_coordinate_descent(\n",
            "/usr/local/lib/python3.10/dist-packages/sklearn/linear_model/_coordinate_descent.py:628: ConvergenceWarning: Objective did not converge. You might want to increase the number of iterations, check the scale of the features or consider increasing regularisation. Duality gap: 8.875e+02, tolerance: 6.418e-01 Linear regression models with null weight for the l1 regularization term are more efficiently fitted using one of the solvers implemented in sklearn.linear_model.Ridge/RidgeCV instead.\n",
            "  model = cd_fast.enet_coordinate_descent(\n",
            "<ipython-input-113-a0419de5d86f>:24: ConstantInputWarning: An input array is constant; the correlation coefficient is not defined.\n",
            "  pcc = pearsonr(y_val, y_val_pred)\n"
          ]
        }
      ]
    },
    {
      "cell_type": "code",
      "source": [
        "print(f\" Validation MSE for Lasso Regression for each alpha value: {lasso_mse_results_val}\")\n",
        "print(f\" Validation PCC for Lasso Regression for each alpha value: {lasso_pcc_results_val}\")\n",
        "print(f\" Validation R2 for Lasso Regression for each alpha value: {lasso_r2_results_val}\")"
      ],
      "metadata": {
        "colab": {
          "base_uri": "https://localhost:8080/"
        },
        "id": "9buUVJxVJcsf",
        "outputId": "f1f90f38-925b-4806-9db4-4dfaf0c818f8"
      },
      "execution_count": 114,
      "outputs": [
        {
          "output_type": "stream",
          "name": "stdout",
          "text": [
            " Validation MSE for Lasso Regression for each alpha value: {0.0: 10.786733256258694, 0.25: 10.717383983194829, 0.5: 10.783613886978284, 1.0: 11.321814574312063, 1000.0: 31.685967347478353}\n",
            " Validation PCC for Lasso Regression for each alpha value: {0.0: PearsonRResult(statistic=0.8137650755178985, pvalue=9.917326940961552e-11), 0.25: PearsonRResult(statistic=0.8129545140033133, pvalue=1.0710033157298172e-10), 0.5: PearsonRResult(statistic=0.8109754782506606, pvalue=1.2902046212039446e-10), 1.0: PearsonRResult(statistic=0.8022903093258726, pvalue=2.849265225556145e-10), 1000.0: PearsonRResult(statistic=nan, pvalue=nan)}\n",
            " Validation R2 for Lasso Regression for each alpha value: {0.0: 0.6575672570673277, 0.25: 0.6597688005032765, 0.5: 0.6576662837284617, 1.0: 0.6405807089549294, 1000.0: -0.005894227056789436}\n"
          ]
        }
      ]
    },
    {
      "cell_type": "code",
      "source": [
        "print(f\"Best alpha for Lasso Regression: {best_alpha_lasso}, Validation MSE: {best_mse_lasso}\")\n",
        "\n",
        "#predict on test set\n",
        "best_lasso = Lasso(alpha=best_alpha_lasso)\n",
        "best_lasso.fit(x_train, y_train)\n",
        "y_test_pred = best_lasso.predict(x_test)\n",
        "best_mse_lasso = mean_squared_error(y_test, y_test_pred)\n",
        "best_pcc_lasso = pearsonr(y_test, y_test_pred)\n",
        "best_r2_lasso = r2_score(y_test, y_test_pred)\n",
        "\n",
        "print(f\"Test MSE based on best lasso model is: {best_mse_lasso}\")\n",
        "print(f\"Test PCC based on best lasso model is: {best_pcc_lasso}\")\n",
        "print(f\"Test R2 based on best lasso model is: {best_r2_lasso}\")"
      ],
      "metadata": {
        "colab": {
          "base_uri": "https://localhost:8080/"
        },
        "id": "ZungQ6Z-o7U3",
        "outputId": "ca34ea73-246e-4604-97ce-4e20fdd29437"
      },
      "execution_count": 115,
      "outputs": [
        {
          "output_type": "stream",
          "name": "stdout",
          "text": [
            "Best alpha for Lasso Regression: 0.25, Validation MSE: 10.717383983194829\n",
            "Test MSE based on best lasso model is: 6.304051801292331\n",
            "Test PCC based on best lasso model is: PearsonRResult(statistic=0.8804354381564513, pvalue=3.289967974729494e-14)\n",
            "Test R2 based on best lasso model is: 0.7438702789681344\n"
          ]
        }
      ]
    },
    {
      "cell_type": "markdown",
      "source": [
        "# Applying PolynomialFeautures"
      ],
      "metadata": {
        "id": "3eKghVMJrCIA"
      }
    },
    {
      "cell_type": "code",
      "source": [
        "from sklearn.preprocessing import PolynomialFeatures"
      ],
      "metadata": {
        "id": "GTNkhqa-q1J-"
      },
      "execution_count": 116,
      "outputs": []
    },
    {
      "cell_type": "code",
      "source": [
        "# transforming X to a feature matrix of degree 5\n",
        "poly = PolynomialFeatures(5)\n",
        "x_train_poly = poly.fit_transform(x_train)\n",
        "x_val_poly = poly.transform(x_val)\n",
        "x_test_poly = poly.transform(x_test)"
      ],
      "metadata": {
        "id": "XY7pMZDsrGpA"
      },
      "execution_count": 117,
      "outputs": []
    },
    {
      "cell_type": "markdown",
      "source": [
        "## Ridge - Polynomial"
      ],
      "metadata": {
        "id": "yUl4vEWnBsIz"
      }
    },
    {
      "cell_type": "code",
      "source": [
        "# Dictionary to store metrics for each alpha value\n",
        "poly_ridge_mse_results_val = {}\n",
        "poly_ridge_pcc_results_val = {}\n",
        "poly_ridge_r2_results_val = {}\n",
        "\n",
        "# Initialize variables to store the best alpha and the corresponding MSE\n",
        "best_poly_mse_ridge = float('inf')\n",
        "best_poly_alpha_ridge = None\n",
        "\n",
        "# Investigate Ridge Regression with different alpha values\n",
        "for alpha in alpha_values:\n",
        "    # Train Ridge Regression model\n",
        "    poly_ridge_model = Ridge(alpha=alpha)\n",
        "    poly_ridge_model.fit(x_train_poly, y_train)\n",
        "\n",
        "    # Predict on the validation set\n",
        "    y_val_pred_poly = poly_ridge_model.predict(x_val_poly)\n",
        "\n",
        "    # Calculate MSE on validation set\n",
        "    mse = mean_squared_error(y_val, y_val_pred_poly)\n",
        "    poly_ridge_mse_results_val[alpha] = mse\n",
        "\n",
        "    # Calculate PCC on validation set\n",
        "    pcc = pearsonr(y_val, y_val_pred_poly)\n",
        "    poly_ridge_pcc_results_val[alpha] = pcc\n",
        "\n",
        "    # Calculate R2 on validation set\n",
        "    r2 = r2_score(y_val, y_val_pred_poly)\n",
        "    poly_ridge_r2_results_val[alpha] = r2\n",
        "\n",
        "    if mse < best_poly_mse_ridge:\n",
        "        best_poly_mse_ridge = mse\n",
        "        best_poly_alpha_ridge = alpha\n"
      ],
      "metadata": {
        "colab": {
          "base_uri": "https://localhost:8080/"
        },
        "id": "LYbiL-vIwDFJ",
        "outputId": "978eb5ca-af90-4dd5-8615-9ac3985e5223"
      },
      "execution_count": 118,
      "outputs": [
        {
          "output_type": "stream",
          "name": "stderr",
          "text": [
            "/usr/local/lib/python3.10/dist-packages/sklearn/linear_model/_ridge.py:239: UserWarning: Singular matrix in solving dual problem. Using least-squares solution instead.\n",
            "  warnings.warn(\n",
            "/usr/local/lib/python3.10/dist-packages/sklearn/linear_model/_ridge.py:239: UserWarning: Singular matrix in solving dual problem. Using least-squares solution instead.\n",
            "  warnings.warn(\n",
            "/usr/local/lib/python3.10/dist-packages/sklearn/linear_model/_ridge.py:239: UserWarning: Singular matrix in solving dual problem. Using least-squares solution instead.\n",
            "  warnings.warn(\n",
            "/usr/local/lib/python3.10/dist-packages/sklearn/linear_model/_ridge.py:239: UserWarning: Singular matrix in solving dual problem. Using least-squares solution instead.\n",
            "  warnings.warn(\n",
            "/usr/local/lib/python3.10/dist-packages/sklearn/linear_model/_ridge.py:239: UserWarning: Singular matrix in solving dual problem. Using least-squares solution instead.\n",
            "  warnings.warn(\n"
          ]
        }
      ]
    },
    {
      "cell_type": "code",
      "source": [
        "print(f\" Validation MSE for Polynomial Ridge Regression for each alpha value: {poly_ridge_mse_results_val}\")\n",
        "print(f\" Validation PCC for Polynomial Ridge Regression for each alpha value: {poly_ridge_pcc_results_val}\")\n",
        "print(f\" Validation R2 for Polynomial Ridge Regression for each alpha value: {poly_ridge_r2_results_val}\")"
      ],
      "metadata": {
        "colab": {
          "base_uri": "https://localhost:8080/"
        },
        "id": "MiO1UepXd08O",
        "outputId": "9e0cb2ad-1eb2-4dee-d6b6-1501b921c402"
      },
      "execution_count": 119,
      "outputs": [
        {
          "output_type": "stream",
          "name": "stdout",
          "text": [
            " Validation MSE for Polynomial Ridge Regression for each alpha value: {0.0: 4749.518319606563, 0.25: 4749.518319606563, 0.5: 4749.518319606563, 1.0: 4749.518319606563, 1000.0: 4749.518319606563}\n",
            " Validation PCC for Polynomial Ridge Regression for each alpha value: {0.0: PearsonRResult(statistic=0.08628243219792944, pvalue=0.5916865295822109), 0.25: PearsonRResult(statistic=0.08628243219792944, pvalue=0.5916865295822109), 0.5: PearsonRResult(statistic=0.08628243219792944, pvalue=0.5916865295822109), 1.0: PearsonRResult(statistic=0.08628243219792944, pvalue=0.5916865295822109), 1000.0: PearsonRResult(statistic=0.08628243219792944, pvalue=0.5916865295822109)}\n",
            " Validation R2 for Polynomial Ridge Regression for each alpha value: {0.0: -149.77693562582397, 0.25: -149.77693562582397, 0.5: -149.77693562582397, 1.0: -149.77693562582397, 1000.0: -149.77693562582397}\n"
          ]
        }
      ]
    },
    {
      "cell_type": "code",
      "source": [
        "print(f\"Best alpha for Polynomial Ridge Regression: {best_poly_alpha_ridge}, Validation MSE: {best_poly_mse_ridge}\")\n",
        "\n",
        "# Predict on the test set\n",
        "best_poly_ridge = Ridge(alpha=best_poly_alpha_ridge)\n",
        "best_poly_ridge.fit(x_train_poly, y_train)\n",
        "y_test_pred_poly = best_poly_ridge.predict(x_test_poly)\n",
        "best_poly_mse_ridge = mean_squared_error(y_test, y_test_pred_poly)\n",
        "best_poly_pcc_ridge = pearsonr(y_test, y_test_pred_poly)\n",
        "best_poly_r2_ridge = r2_score(y_test, y_test_pred_poly)\n",
        "\n",
        "print(f\"Test MSE based on best polynomial ridge model is: {best_poly_mse_ridge}\")\n",
        "print(f\"Test PCC based on best polynomial ridge model is: {best_poly_pcc_ridge}\")\n",
        "print(f\"Test R2 based on best polynomial ridge model is: {best_poly_r2_ridge}\")"
      ],
      "metadata": {
        "colab": {
          "base_uri": "https://localhost:8080/"
        },
        "id": "zYXw1YFSA8dA",
        "outputId": "21d36502-b7a5-4bba-bb95-3cc1c103db62"
      },
      "execution_count": 120,
      "outputs": [
        {
          "output_type": "stream",
          "name": "stdout",
          "text": [
            "Best alpha for Polynomial Ridge Regression: 0.0, Validation MSE: 4749.518319606563\n",
            "Test MSE based on best polynomial ridge model is: 6274.695539595876\n",
            "Test PCC based on best polynomial ridge model is: PearsonRResult(statistic=-0.5498501695355492, pvalue=0.00019619329716430846)\n",
            "Test R2 based on best polynomial ridge model is: -253.93699429740096\n"
          ]
        },
        {
          "output_type": "stream",
          "name": "stderr",
          "text": [
            "/usr/local/lib/python3.10/dist-packages/sklearn/linear_model/_ridge.py:239: UserWarning: Singular matrix in solving dual problem. Using least-squares solution instead.\n",
            "  warnings.warn(\n"
          ]
        }
      ]
    },
    {
      "cell_type": "markdown",
      "source": [
        "## Lasso - Polynomial"
      ],
      "metadata": {
        "id": "zJRLMpqeBuos"
      }
    },
    {
      "cell_type": "code",
      "source": [
        "# Dictionary to store metrics for each alpha value\n",
        "poly_lasso_mse_results_val = {}\n",
        "poly_lasso_pcc_results_val = {}\n",
        "poly_lasso_r2_results_val = {}\n",
        "\n",
        "# Initialize variables to store the best alpha and the corresponding MSE\n",
        "best_poly_mse_lasso = float('inf')\n",
        "best_poly_alpha_lasso = None\n",
        "\n",
        "# Investigate Lasso Regression with different alpha values\n",
        "for alpha in alpha_values:\n",
        "    poly_lasso_model = Lasso(alpha=alpha)\n",
        "    poly_lasso_model.fit(x_train_poly, y_train)\n",
        "\n",
        "    y_val_pred_poly = poly_lasso_model.predict(x_val_poly)\n",
        "\n",
        "    # Calculate MSE on validation set\n",
        "    mse = mean_squared_error(y_val, y_val_pred_poly)\n",
        "    poly_lasso_mse_results_val[alpha] = mse\n",
        "\n",
        "    # Calculate PCC on validation set\n",
        "    pcc = pearsonr(y_val, y_val_pred_poly)\n",
        "    poly_lasso_pcc_results_val[alpha] = pcc\n",
        "\n",
        "    # Calculate R2 on validation set\n",
        "    r2 = r2_score(y_val, y_val_pred_poly)\n",
        "    poly_lasso_r2_results_val[alpha] = r2\n",
        "\n",
        "    if mse < best_poly_mse_lasso:\n",
        "        best_poly_mse_lasso = mse\n",
        "        best_poly_alpha_lasso = alpha\n",
        "\n"
      ],
      "metadata": {
        "colab": {
          "base_uri": "https://localhost:8080/"
        },
        "id": "ByTBvc9vBlbc",
        "outputId": "75e338e0-0100-4ced-8225-9a4d9d00633d"
      },
      "execution_count": 121,
      "outputs": [
        {
          "output_type": "stream",
          "name": "stderr",
          "text": [
            "/usr/local/lib/python3.10/dist-packages/sklearn/base.py:1152: UserWarning: With alpha=0, this algorithm does not converge well. You are advised to use the LinearRegression estimator\n",
            "  return fit_method(estimator, *args, **kwargs)\n",
            "/usr/local/lib/python3.10/dist-packages/sklearn/linear_model/_coordinate_descent.py:628: UserWarning: Coordinate descent with no regularization may lead to unexpected results and is discouraged.\n",
            "  model = cd_fast.enet_coordinate_descent(\n",
            "/usr/local/lib/python3.10/dist-packages/sklearn/linear_model/_coordinate_descent.py:628: ConvergenceWarning: Objective did not converge. You might want to increase the number of iterations, check the scale of the features or consider increasing regularisation. Duality gap: 4.435e+02, tolerance: 6.418e-01 Linear regression models with null weight for the l1 regularization term are more efficiently fitted using one of the solvers implemented in sklearn.linear_model.Ridge/RidgeCV instead.\n",
            "  model = cd_fast.enet_coordinate_descent(\n",
            "/usr/local/lib/python3.10/dist-packages/sklearn/linear_model/_coordinate_descent.py:628: ConvergenceWarning: Objective did not converge. You might want to increase the number of iterations, check the scale of the features or consider increasing regularisation. Duality gap: 4.663e+02, tolerance: 6.418e-01\n",
            "  model = cd_fast.enet_coordinate_descent(\n",
            "/usr/local/lib/python3.10/dist-packages/sklearn/linear_model/_coordinate_descent.py:628: ConvergenceWarning: Objective did not converge. You might want to increase the number of iterations, check the scale of the features or consider increasing regularisation. Duality gap: 4.825e+02, tolerance: 6.418e-01\n",
            "  model = cd_fast.enet_coordinate_descent(\n",
            "/usr/local/lib/python3.10/dist-packages/sklearn/linear_model/_coordinate_descent.py:628: ConvergenceWarning: Objective did not converge. You might want to increase the number of iterations, check the scale of the features or consider increasing regularisation. Duality gap: 5.016e+02, tolerance: 6.418e-01\n",
            "  model = cd_fast.enet_coordinate_descent(\n",
            "/usr/local/lib/python3.10/dist-packages/sklearn/linear_model/_coordinate_descent.py:628: ConvergenceWarning: Objective did not converge. You might want to increase the number of iterations, check the scale of the features or consider increasing regularisation. Duality gap: 5.667e+02, tolerance: 6.418e-01\n",
            "  model = cd_fast.enet_coordinate_descent(\n"
          ]
        }
      ]
    },
    {
      "cell_type": "code",
      "source": [
        "print(f\" Validation MSE for Polynomial Lasso Regression for each alpha value: {poly_lasso_mse_results_val}\")\n",
        "print(f\" Validation PCC for Polynomial Lasso Regression for each alpha value: {poly_lasso_pcc_results_val}\")\n",
        "print(f\" Validation R2 for Polynomial Lasso Regression for each alpha value: {poly_lasso_r2_results_val}\")"
      ],
      "metadata": {
        "colab": {
          "base_uri": "https://localhost:8080/"
        },
        "id": "ErIg-rmb5xoO",
        "outputId": "318b2992-d3bf-49fa-d8e6-5fc47413b2f5"
      },
      "execution_count": 122,
      "outputs": [
        {
          "output_type": "stream",
          "name": "stdout",
          "text": [
            " Validation MSE for Polynomial Lasso Regression for each alpha value: {0.0: 10.261735891826248, 0.25: 10.272846879516278, 0.5: 10.1521668201895, 1.0: 9.889363339828785, 1000.0: 10.229699267062218}\n",
            " Validation PCC for Polynomial Lasso Regression for each alpha value: {0.0: PearsonRResult(statistic=0.8393416496238871, pvalue=7.101927546824651e-12), 0.25: PearsonRResult(statistic=0.8378537923552839, pvalue=8.381285873022036e-12), 0.5: PearsonRResult(statistic=0.8391389154584298, pvalue=7.2647498419811484e-12), 1.0: PearsonRResult(statistic=0.841553842628708, pvalue=5.53435192247982e-12), 1000.0: PearsonRResult(statistic=0.8268559124069448, pvalue=2.7139465617037725e-11)}\n",
            " Validation R2 for Polynomial Lasso Regression for each alpha value: {0.0: 0.6742336826907402, 0.25: 0.6738809562534585, 0.5: 0.6777120330726214, 1.0: 0.6860549219245319, 1000.0: 0.6752507087941609}\n"
          ]
        }
      ]
    },
    {
      "cell_type": "code",
      "source": [
        "print(f\"Best alpha for Polynomial Lasso Regression: {best_poly_alpha_lasso}, Validation MSE: {best_poly_mse_lasso}\")\n",
        "\n",
        "# Predict on the test set\n",
        "best_poly_lasso = Lasso(alpha=best_poly_alpha_lasso)\n",
        "best_poly_lasso.fit(x_train_poly, y_train)\n",
        "y_test_pred_poly = best_poly_lasso.predict(x_test_poly)\n",
        "best_poly_mse_lasso = mean_squared_error(y_test, y_test_pred_poly)\n",
        "best_poly_pcc_lasso = pearsonr(y_test, y_test_pred_poly)\n",
        "best_poly_r2_lasso = r2_score(y_test, y_test_pred_poly)\n",
        "\n",
        "print(f\"Test MSE based on best polynomial lasso model is: {best_poly_mse_lasso}\")\n",
        "print(f\"Test PCC based on best polynomial lasso model is: {best_poly_pcc_lasso}\")\n",
        "print(f\"Test r2 based on best polynomial lasso model is: {best_poly_r2_lasso}\")"
      ],
      "metadata": {
        "colab": {
          "base_uri": "https://localhost:8080/"
        },
        "id": "YR2m24jdDNzt",
        "outputId": "45143f5e-cc95-4286-d9e0-5fff50f8ea2c"
      },
      "execution_count": 123,
      "outputs": [
        {
          "output_type": "stream",
          "name": "stderr",
          "text": [
            "/usr/local/lib/python3.10/dist-packages/sklearn/linear_model/_coordinate_descent.py:628: ConvergenceWarning: Objective did not converge. You might want to increase the number of iterations, check the scale of the features or consider increasing regularisation. Duality gap: 5.016e+02, tolerance: 6.418e-01\n",
            "  model = cd_fast.enet_coordinate_descent(\n"
          ]
        },
        {
          "output_type": "stream",
          "name": "stdout",
          "text": [
            "Best alpha for Polynomial Lasso Regression: 1.0, Validation MSE: 9.889363339828785\n",
            "Test MSE based on best polynomial lasso model is: 8.003754887831445\n",
            "Test PCC based on best polynomial lasso model is: PearsonRResult(statistic=0.8615133252686785, pvalue=4.837261322728922e-13)\n",
            "Test r2 based on best polynomial lasso model is: 0.6748123950682878\n"
          ]
        }
      ]
    },
    {
      "cell_type": "markdown",
      "source": [
        "# Analyzing coefficient of ridge regression and lasso models"
      ],
      "metadata": {
        "id": "hTF2eKVnE6PO"
      }
    },
    {
      "cell_type": "code",
      "source": [
        "# Analyzing coefficients for Ridge\n",
        "print(\"Ridge coefficients:\", best_ridge.coef_)\n",
        "\n",
        "# Analyzing coefficients for LASSO\n",
        "print(\"Lasso coefficients:\", best_lasso.coef_)"
      ],
      "metadata": {
        "colab": {
          "base_uri": "https://localhost:8080/"
        },
        "id": "jObnyVKEE__T",
        "outputId": "e6cf1559-055b-422b-892a-79655f3576c1"
      },
      "execution_count": 124,
      "outputs": [
        {
          "output_type": "stream",
          "name": "stdout",
          "text": [
            "Ridge coefficients: [ 0.38129469  0.70869913 -0.01146157 -0.40956554 -0.95339814]\n",
            "Lasso coefficients: [ 0.32972208  0.69346839 -0.01514602 -0.40518947 -0.75270121]\n"
          ]
        }
      ]
    },
    {
      "cell_type": "markdown",
      "source": [
        "Q8. The most important feature for both the Ridge and Lasso model is X5(width).\n",
        "The feature with the weights close to 0 in both models is also X3(engine-size)."
      ],
      "metadata": {
        "id": "xAmTfRWQ-vyO"
      }
    }
  ]
}